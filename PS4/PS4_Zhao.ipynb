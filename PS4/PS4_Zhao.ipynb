{
 "cells": [
  {
   "cell_type": "code",
   "execution_count": 1,
   "metadata": {},
   "outputs": [],
   "source": [
    "from sqlalchemy import create_engine\n",
    "from sqlalchemy import MetaData, ForeignKey\n",
    "from sqlalchemy import Table, Column\n",
    "from sqlalchemy import Integer, String, Float\n",
    "import pandas as pd\n",
    "engine = create_engine('sqlite:///cranes.sqlite')\n",
    "metadata = MetaData()\n",
    "# define the tables\n",
    "museum = Table('museum', metadata,\n",
    "              Column('name', String),\n",
    "              Column('code', String, primary_key = True),\n",
    "              Column('contact',String),\n",
    "              Column('email', String),\n",
    "              )\n",
    "taxonomy = Table('taxonomy', metadata,\n",
    "              Column('name', String, primary_key = True),\n",
    "              Column('kingdom', String),\n",
    "              Column('phylum', String),\n",
    "              Column('class', String),\n",
    "              Column('order', String),\n",
    "              Column('family', String),\n",
    "              Column('genus', String),\n",
    "              Column('specific_epithet', String),\n",
    "              )\n",
    "specimen = Table('specimen', metadata,\n",
    "              Column('ID', Integer, primary_key = True),\n",
    "              Column('scientific_name', String, ForeignKey(\"taxonomy.name\")),\n",
    "              Column('museum_code', String, ForeignKey(\"museum.code\")),\n",
    "              Column('sex', String),\n",
    "              Column('lifestage', String),\n",
    "              Column('mass', Float),\n",
    "              Column('country_code', String, ForeignKey(\"country.code\")),\n",
    "              Column('state', String),\n",
    "              Column('county', String),\n",
    "              Column('locality', String),\n",
    "              Column('elevation', Float),\n",
    "              Column('date', String),\n",
    "              )\n",
    "country = Table('country', metadata,\n",
    "              Column('name', String),\n",
    "              Column('code', String, primary_key = True),\n",
    "              Column('continent', String),\n",
    "              )\n",
    "metadata.create_all(engine)"
   ]
  },
  {
   "cell_type": "code",
   "execution_count": 2,
   "metadata": {},
   "outputs": [
    {
     "name": "stdout",
     "output_type": "stream",
     "text": [
      "done!\n"
     ]
    }
   ],
   "source": [
    "# As I have 4 table, I only loaded data for 2 tables\n",
    "# load museum table into database\n",
    "from sqlalchemy import create_engine\n",
    "engine = create_engine('sqlite:///cranes.sqlite')\n",
    "conn = engine.connect()\n",
    "data = pd.read_csv('Documents/cranes.csv',encoding = 'Latin-1',usecols=['museum','museum_code','dataset_contact','dataset_contact_email'])\n",
    "info=data.drop_duplicates(keep=\"first\")\n",
    "i=0\n",
    "while True:\n",
    "    ins = museum.insert().values(name=info['museum'].tolist()[i],code= info['museum_code'].tolist()[i],contact=info['dataset_contact'].tolist()[i],email=info['dataset_contact_email'].tolist()[i])\n",
    "    conn.execute(ins)\n",
    "    i=i+1\n",
    "    if i == len(info['museum'].tolist()):\n",
    "        print('done!')\n",
    "        break"
   ]
  },
  {
   "cell_type": "code",
   "execution_count": 5,
   "metadata": {},
   "outputs": [
    {
     "name": "stdout",
     "output_type": "stream",
     "text": [
      "done!\n"
     ]
    }
   ],
   "source": [
    "# load specimen table into database\n",
    "from sqlalchemy import create_engine\n",
    "engine = create_engine('sqlite:///cranes.sqlite')\n",
    "conn = engine.connect()\n",
    "data = pd.read_csv('Documents/cranes.csv',encoding = 'Latin-1',usecols=['catalogID','museum_code','scientific_name','sex','lifestage','mass','date','country_code','state','county','locality','elevation'])\n",
    "i=0\n",
    "while True:\n",
    "    ins = specimen.insert().values(ID=data['catalogID'].tolist()[i],scientific_name= data['scientific_name'].tolist()[i],museum_code=data['museum_code'].tolist()[i],sex=data['sex'].tolist()[i],lifestage=data['lifestage'].tolist()[i],mass=data['mass'].tolist()[i],date=data['date'].tolist()[i],country_code=data['country_code'].tolist()[i],state=data['state'].tolist()[i],county=data['county'].tolist()[i],locality=data['locality'].tolist()[i],elevation=data['elevation'].tolist()[i])\n",
    "    conn.execute(ins)\n",
    "    i=i+1\n",
    "    if i == len(data['catalogID'].tolist()):\n",
    "        print('done!')\n",
    "        break"
   ]
  },
  {
   "cell_type": "code",
   "execution_count": 8,
   "metadata": {},
   "outputs": [
    {
     "name": "stdout",
     "output_type": "stream",
     "text": [
      "('Christopher Witt', 'cwitt@unm.edu')\n",
      "('Grus americana', 'male', 'USA')\n",
      "('Grus americana', 'female', 'USA')\n"
     ]
    }
   ],
   "source": [
    "# queries for testing\n",
    "from sqlalchemy import create_engine\n",
    "from sqlalchemy import MetaData\n",
    "from sqlalchemy import sql, select, join, desc\n",
    "\n",
    "engine = create_engine('sqlite:///cranes.sqlite')\n",
    "conn = engine.connect()\n",
    "DBInfo = MetaData(engine)\n",
    "museum = Table('museum', DBInfo, autoload=True)\n",
    "specimen = Table('specimen', DBInfo, autoload=True)\n",
    "\n",
    "query1 = select([museum.c.contact,museum.c.email]).where(museum.c.code == 'MSB')\n",
    "result1 = conn.execute(query1)\n",
    "for row in result1:\n",
    "    print(row)\n",
    "\n",
    "query2 = select([specimen.c.scientific_name, specimen.c.sex,specimen.c.country_code]).where(specimen.c.museum_code == 'UF')\n",
    "result2 = conn.execute(query2)\n",
    "for row in result2:\n",
    "    print(row)"
   ]
  },
  {
   "cell_type": "code",
   "execution_count": null,
   "metadata": {},
   "outputs": [],
   "source": []
  }
 ],
 "metadata": {
  "kernelspec": {
   "display_name": "Python 3",
   "language": "python",
   "name": "python3"
  },
  "language_info": {
   "codemirror_mode": {
    "name": "ipython",
    "version": 3
   },
   "file_extension": ".py",
   "mimetype": "text/x-python",
   "name": "python",
   "nbconvert_exporter": "python",
   "pygments_lexer": "ipython3",
   "version": "3.6.5"
  }
 },
 "nbformat": 4,
 "nbformat_minor": 2
}
