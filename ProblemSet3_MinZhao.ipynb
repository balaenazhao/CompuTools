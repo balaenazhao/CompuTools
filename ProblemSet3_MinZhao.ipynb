{
 "cells": [
  {
   "cell_type": "code",
   "execution_count": 1,
   "metadata": {},
   "outputs": [
    {
     "name": "stdout",
     "output_type": "stream",
     "text": [
      "6.647\n",
      "10/10/2018 18:06\n"
     ]
    }
   ],
   "source": [
    "import csv\n",
    "dates = []\n",
    "levels = []\n",
    "values = csv.reader(open('CO-OPS__8729108__wl.csv'),delimiter = ',')\n",
    "for row in values:\n",
    "    dates.append(row[0])\n",
    "    levels.append(row[1])\n",
    "print(max(levels))\n",
    "Max_index = levels.index(max(levels))\n",
    "print(dates[Max_index])"
   ]
  },
  {
   "cell_type": "code",
   "execution_count": 36,
   "metadata": {},
   "outputs": [
    {
     "name": "stdout",
     "output_type": "stream",
     "text": [
      "6.647\n",
      "10/10/2018 18:06\n"
     ]
    }
   ],
   "source": [
    "import pandas as pd\n",
    "data = pd.read_csv('CO-OPS__8729108__wl.csv',sep = ',')\n",
    "Max = data[\" Water Level\"].max() # note the space before column label\n",
    "print(Max)\n",
    "time = data[\"Date Time\"].where(data[\" Water Level\"] == Max).dropna().values[0]\n",
    "print(time)"
   ]
  },
  {
   "cell_type": "code",
   "execution_count": 1,
   "metadata": {},
   "outputs": [
    {
     "name": "stdout",
     "output_type": "stream",
     "text": [
      "0.64\n",
      "10/10/2018 17:36 4.951\n",
      "10/10/2018 17:42 5.591\n"
     ]
    }
   ],
   "source": [
    "import csv\n",
    "dates = []\n",
    "levels = []\n",
    "values = csv.reader(open('CO-OPS__8729108__wl.csv'),delimiter = ',')\n",
    "for row in values:\n",
    "    dates.append(row[0])\n",
    "    levels.append(row[1])\n",
    "i = 0\n",
    "rises = [-999] # I used -999 as an null indicator, whose type is int instead of string\n",
    "nlst = levels[1:]\n",
    "while i < len(nlst)-1:\n",
    "    try:\n",
    "        early = float(nlst[i])\n",
    "        late =  float(nlst[i+1])\n",
    "        rise = late - early\n",
    "        rises.append(rise)\n",
    "        i=i+1\n",
    "    except:\n",
    "        if nlst[i+1]== '': # there is one empty cell in data file\n",
    "            rises.extend([-999,-999])\n",
    "            i=i+2\n",
    "            continue\n",
    "Max_index = rises.index(max(rises))\n",
    "print(round(max(rises),3))\n",
    "print(dates[Max_index], levels[Max_index])\n",
    "print(dates[Max_index+1], levels[Max_index+1])"
   ]
  },
  {
   "cell_type": "code",
   "execution_count": 110,
   "metadata": {},
   "outputs": [
    {
     "data": {
      "image/png": "[encoded data removed]",
      "text/plain": [
       "<Figure size 432x288 with 1 Axes>"
      ]
     },
     "metadata": {},
     "output_type": "display_data"
    }
   ],
   "source": [
    "import matplotlib\n",
    "import matplotlib.pyplot as plt\n",
    "import csv\n",
    "levels = []\n",
    "values = csv.reader(open('CO-OPS__8729108__wl.csv'),delimiter = ',')\n",
    "for row in values:\n",
    "    levels.append(row[1])\n",
    "nlst = levels[1:]\n",
    "empty = nlst.index('')\n",
    "nlst[empty] = 0\n",
    "nlst2 = []\n",
    "for num in nlst:\n",
    "    nlst2.append(float(num))\n",
    "nlst2[empty] = (nlst2[empty-1] + nlst2[empty+1])/2 # impute missing value\n",
    "plt.plot(nlst2[:])\n",
    "plt.axis([0,724,0,7])\n",
    "plt.plot(empty, nlst2[empty], 'ro',markersize = 2) # mark the missing point\n",
    "plt.xlabel(\"Measurement intervals (every 6 minutes)\")\n",
    "plt.ylabel('Water Level')\n",
    "plt.title('Water level observations from 10/9/2018 0:00')\n",
    "plt.show()"
   ]
  },
  {
   "cell_type": "code",
   "execution_count": 28,
   "metadata": {},
   "outputs": [
    {
     "name": "stdout",
     "output_type": "stream",
     "text": [
      "Water level data file has been downloaded for 20181016, which can also be viewed in https://tidesandcurrents.noaa.gov/api/datagetter?begin_date=20181016%2000:00&end_date=20181016&station=8729108&product=water_level&datum=mllw&units=metric&time_zone=lst&application=web_services&format=xml\n"
     ]
    }
   ],
   "source": [
    "import datetime\n",
    "import urllib.request\n",
    "now = datetime.datetime.now().strftime(\"%Y%m%d\")\n",
    "url='https://tidesandcurrents.noaa.gov/api/datagetter?begin_date='+now+'%2000:00&end_date='+now+'&station=8729108&product=water_level&datum=mllw&units=metric&time_zone=lst&application=web_services&format=csv'\n",
    "data = urllib.request.urlopen(url)\n",
    "datatowrite = data.read()\n",
    "with open('Downloads/CO-OPS__8729108__wl.csv','wb') as file:  \n",
    "    file.write(datatowrite)\n",
    "print('Water level data file has been downloaded for ',now,', which can also be viewed in ',url[:-3]+'xml',sep='')"
   ]
  },
  {
   "cell_type": "code",
   "execution_count": null,
   "metadata": {},
   "outputs": [],
   "source": []
  }
 ],
 "metadata": {
  "kernelspec": {
   "display_name": "Python 3",
   "language": "python",
   "name": "python3"
  },
  "language_info": {
   "codemirror_mode": {
    "name": "ipython",
    "version": 3
   },
   "file_extension": ".py",
   "mimetype": "text/x-python",
   "name": "python",
   "nbconvert_exporter": "python",
   "pygments_lexer": "ipython3",
   "version": "3.6.5"
  }
 },
 "nbformat": 4,
 "nbformat_minor": 2
}
